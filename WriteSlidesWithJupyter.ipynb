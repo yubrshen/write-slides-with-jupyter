{
 "cells": [
  {
   "cell_type": "markdown",
   "metadata": {
    "slideshow": {
     "slide_type": "slide"
    }
   },
   "source": [
    "# Writing Slides with Jupyter Notebook\n",
    "##### Yu Shen\n",
    "###### Last updated: Aug. 9th, 2017\n"
   ]
  },
  {
   "cell_type": "markdown",
   "metadata": {
    "slideshow": {
     "slide_type": "slide"
    }
   },
   "source": [
    "## A Sample\n",
    "\n",
    "\n",
    "- Circles have a diameter.\n",
    "- Circles have a circumference.\n",
    "- Here's the formula for $\\pi$:\n",
    "    $$\\pi = \\frac{C}{D}$$"
   ]
  },
  {
   "cell_type": "markdown",
   "metadata": {
    "slideshow": {
     "slide_type": "slide"
    }
   },
   "source": [
    "## The Benefits of Writing Slides with Jupyter Notebook\n",
    "\n",
    "- Use Markdown syntax for format, more keyboard friendly\n",
    "- Leverage the powerful literate programming facility of Jupyter Notebook, such as producing plots, etc. \n",
    "- It supports LaTex for mathematical formula"
   ]
  },
  {
   "cell_type": "markdown",
   "metadata": {
    "slideshow": {
     "slide_type": "slide"
    }
   },
   "source": [
    "## Getting Started\n",
    "- Install reveal.js by executing the following at the directory where the slide document will be:\n",
    "\n",
    "    git clone https://github.com/hakimel/reveal.js\n",
    "\n",
    "reveal.js would be in the directory of the slide document\n",
    "- Start jupyter notebook and create new notebook file as usual\n",
    "- Enable slideshow Cell-Toolbar menu by selecting View/Cell-Toolbar/Slideshow\n",
    "- Write slides as Markdown cells specifying the desired Slide Type (Slide/Sub-Slide/Fragment/Skip/Notes)\n",
    "    - Note: for a cell, if the \"Slide Type\" is blank, then it will not be shown.\n"
   ]
  },
  {
   "cell_type": "markdown",
   "metadata": {
    "slideshow": {
     "slide_type": "slide"
    }
   },
   "source": [
    "## Presenting Slides in Browser\n",
    "##### Convert the notebook into slides of html file\n",
    "\n",
    "For example, \n",
    "\n",
    "    jupyter-nbconvert --to slides WriteSlidesWithJupyter.ipynb --reveal-prefix=reveal.js\n",
    "\n",
    "the resulted slide html file should in the same directory: WriteSlidesWithJupyter.slides.html\n",
    "\n",
    "Using the above conversion, the resulted htiml file can use full functionality of the framework of reveal.js\n",
    "\n",
    "##### Live Reveal Slideshow with RISE\n",
    "\n",
    "Install RISE by the following:\n",
    "\n",
    "    conda install -c damianavila82 rise\n",
    "\n",
    "then restart jupyter notebook. With the notebook for the slides open, click on the menu button for \"Enter/Exit Live Reveal Slideshow\" (a vertial bar chart icon). Then one can see the slides shown. "
   ]
  },
  {
   "cell_type": "markdown",
   "metadata": {
    "slideshow": {
     "slide_type": "slide"
    }
   },
   "source": [
    "## Slide Types\n",
    "\n",
    "The slide types are types of slides supported by reveal.js.\n",
    "\n",
    "##### Slide\n",
    "\n",
    "A main slide page. To view it one has to navigate to the right.\n",
    "\n",
    "More types of slide, please navigate downward."
   ]
  },
  {
   "cell_type": "markdown",
   "metadata": {
    "slideshow": {
     "slide_type": "subslide"
    }
   },
   "source": [
    "##### Sub-Slide\n",
    "Slide page that is considered to be part of a (main) slide. To view it one has to navigate downward instead of navigating to the right."
   ]
  },
  {
   "cell_type": "markdown",
   "metadata": {
    "slideshow": {
     "slide_type": "fragment"
    }
   },
   "source": [
    "##### Fragment\n",
    "\n",
    "Considered to be part of a slide/sub-slide, it's show one fragment at a time. It corresponds to a bullet shown by annimation in the Power-Point (ppt). To view it one may navigate downward as well to the right."
   ]
  },
  {
   "cell_type": "markdown",
   "metadata": {
    "slideshow": {
     "slide_type": "fragment"
    }
   },
   "source": [
    "##### Skip\n",
    "Slide page to be hidden. "
   ]
  },
  {
   "cell_type": "markdown",
   "metadata": {
    "slideshow": {
     "slide_type": "skip"
    }
   },
   "source": [
    "###### An example of skip slide"
   ]
  },
  {
   "cell_type": "markdown",
   "metadata": {
    "slideshow": {
     "slide_type": "fragment"
    }
   },
   "source": [
    "###### Notes\n",
    "\n",
    "To keep as note not shown as slide page. It will be shown as speaker notes when pressing command s"
   ]
  },
  {
   "cell_type": "markdown",
   "metadata": {
    "slideshow": {
     "slide_type": "notes"
    }
   },
   "source": [
    "##### Example of Slide Notes\n",
    "\n",
    "Here is an example of notes."
   ]
  },
  {
   "cell_type": "markdown",
   "metadata": {
    "slideshow": {
     "slide_type": "slide"
    }
   },
   "source": [
    "## More Tutorials\n",
    "\n",
    "- https://www.youtube.com/watch?v=EOpcxy0RA1A (Very short and sweet.)"
   ]
  },
  {
   "cell_type": "markdown",
   "metadata": {
    "slideshow": {
     "slide_type": "slide"
    }
   },
   "source": [
    "## Configuration and Customization\n",
    "\n",
    "To learn and document. Input welcome!\n",
    "\n",
    "```./custome.css``` at the directory of the html file for the slides would help to customize. \n",
    "\n",
    "1. How to shrink the vertical space?\n",
    "\n",
    "I tried to customized  some verticle space with ```./custom.css```. It may needs more refinement. "
   ]
  },
  {
   "cell_type": "code",
   "execution_count": null,
   "metadata": {
    "collapsed": true
   },
   "outputs": [],
   "source": []
  }
 ],
 "metadata": {
  "celltoolbar": "Slideshow",
  "kernelspec": {
   "display_name": "Python 3",
   "language": "python",
   "name": "python3"
  },
  "language_info": {
   "codemirror_mode": {
    "name": "ipython",
    "version": 3
   },
   "file_extension": ".py",
   "mimetype": "text/x-python",
   "name": "python",
   "nbconvert_exporter": "python",
   "pygments_lexer": "ipython3",
   "version": "3.6.2"
  },
  "latex_envs": {
   "LaTeX_envs_menu_present": true,
   "autocomplete": true,
   "bibliofile": "biblio.bib",
   "cite_by": "apalike",
   "current_citInitial": 1,
   "eqLabelWithNumbers": true,
   "eqNumInitial": 1,
   "hotkeys": {
    "equation": "Ctrl-E",
    "itemize": "Ctrl-I"
   },
   "labels_anchors": false,
   "latex_user_defs": false,
   "report_style_numbering": false,
   "user_envs_cfg": false
  },
  "toc": {
   "colors": {
    "hover_highlight": "#DAA520",
    "navigate_num": "#000000",
    "navigate_text": "#333333",
    "running_highlight": "#FF0000",
    "selected_highlight": "#FFD700",
    "sidebar_border": "#EEEEEE",
    "wrapper_background": "#FFFFFF"
   },
   "moveMenuLeft": true,
   "nav_menu": {
    "height": "171px",
    "width": "252px"
   },
   "navigate_menu": true,
   "number_sections": true,
   "sideBar": true,
   "threshold": 4,
   "toc_cell": false,
   "toc_section_display": "block",
   "toc_window_display": false,
   "widenNotebook": false
  },
  "varInspector": {
   "cols": {
    "lenName": 16,
    "lenType": 16,
    "lenVar": 40
   },
   "kernels_config": {
    "python": {
     "delete_cmd_postfix": "",
     "delete_cmd_prefix": "del ",
     "library": "var_list.py",
     "varRefreshCmd": "print(var_dic_list())"
    },
    "r": {
     "delete_cmd_postfix": ") ",
     "delete_cmd_prefix": "rm(",
     "library": "var_list.r",
     "varRefreshCmd": "cat(var_dic_list()) "
    }
   },
   "types_to_exclude": [
    "module",
    "function",
    "builtin_function_or_method",
    "instance",
    "_Feature"
   ],
   "window_display": false
  }
 },
 "nbformat": 4,
 "nbformat_minor": 2
}
